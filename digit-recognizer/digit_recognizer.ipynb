{
 "cells": [
  {
   "cell_type": "code",
   "execution_count": 80,
   "metadata": {
    "_uuid": "8f2839f25d086af736a60e9eeb907d3b93b6e0e5",
    "_cell_guid": "b1076dfc-b9ad-4769-8c92-a6c4dae69d19",
    "trusted": true
   },
   "outputs": [
    {
     "name": "stdout",
     "output_type": "stream",
     "text": [
      "/kaggle/input/digit-recognizer/sample_submission.csv\n/kaggle/input/digit-recognizer/test.csv\n/kaggle/input/digit-recognizer/train.csv\n/kaggle/input/digit-data/test.csv\n"
     ]
    }
   ],
   "source": [
    "# This Python 3 environment comes with many helpful analytics libraries installed\n",
    "# It is defined by the kaggle/python Docker image: https://github.com/kaggle/docker-python\n",
    "# For example, here's several helpful packages to load\n",
    "\n",
    "import numpy as np # linear algebra\n",
    "import pandas as pd # data processing, CSV file I/O (e.g. pd.read_csv)\n",
    "\n",
    "# Input data files are available in the read-only \"../input/\" directory\n",
    "# For example, running this (by clicking run or pressing Shift+Enter) will list all files under the input directory\n",
    "\n",
    "import os\n",
    "for dirname, _, filenames in os.walk('/kaggle/input'):\n",
    "    for filename in filenames:\n",
    "        print(os.path.join(dirname, filename))\n",
    "\n",
    "# You can write up to 5GB to the current directory (/kaggle/working/) that gets preserved as output when you create a version using \"Save & Run All\" \n",
    "# You can also write temporary files to /kaggle/temp/, but they won't be saved outside of the current session"
   ]
  },
  {
   "cell_type": "code",
   "execution_count": 81,
   "metadata": {
    "_uuid": "d629ff2d2480ee46fbb7e2d37f6b5fab8052498a",
    "_cell_guid": "79c7e3d0-c299-4dcb-8224-4455121ee9b0",
    "trusted": true
   },
   "outputs": [],
   "source": [
    "import pandas as pd\n",
    "import matplotlib.pyplot as plt\n",
    "%matplotlib inline\n",
    "from sklearn.model_selection import train_test_split\n",
    "from keras.utils.np_utils import to_categorical\n",
    "from keras.models import Sequential\n",
    "from keras.layers import Dense, Dropout, Flatten, Conv2D, MaxPool2D\n",
    "from keras.optimizers import RMSprop\n",
    "from keras.preprocessing.image import ImageDataGenerator\n",
    "from keras.callbacks import ReduceLROnPlateau, CSVLogger"
   ]
  },
  {
   "cell_type": "code",
   "execution_count": 126,
   "metadata": {
    "trusted": true
   },
   "outputs": [],
   "source": [
    "# more info\n",
    "VERBOSITY = 1\n",
    "EPOCHS = 100\n",
    "BATCH_SIZE = 512\n",
    "CLASSES = 10\n",
    "CHANNELS = 1\n",
    "IMAGE_SIZE = 28\n",
    "IMAGE_WIDTH, IMAGE_HEIGHT = IMAGE_SIZE, IMAGE_SIZE\n",
    "VALIDATION_RATIO = 0.1\n"
   ]
  },
  {
   "cell_type": "code",
   "execution_count": 84,
   "metadata": {
    "trusted": true
   },
   "outputs": [],
   "source": [
    "# Load data\n",
    "import pandas as pd\n",
    "train = pd.read_csv(\"../input/digit-recognizer/train.csv\")\n",
    "test = pd.read_csv(\"../input/digit-recognizer/test.csv\")"
   ]
  },
  {
   "cell_type": "code",
   "execution_count": 85,
   "metadata": {
    "trusted": true
   },
   "outputs": [
    {
     "name": "stdout",
     "output_type": "stream",
     "text": [
      "Training set has 42000 rows and 785 columns\nTest set has 28000 rows and 784 columns\n   label  pixel0  pixel1  pixel2  pixel3  pixel4  pixel5  pixel6  pixel7  \\\n0      1       0       0       0       0       0       0       0       0   \n1      0       0       0       0       0       0       0       0       0   \n2      1       0       0       0       0       0       0       0       0   \n3      4       0       0       0       0       0       0       0       0   \n4      0       0       0       0       0       0       0       0       0   \n\n   pixel8  ...  pixel774  pixel775  pixel776  pixel777  pixel778  pixel779  \\\n0       0  ...         0         0         0         0         0         0   \n1       0  ...         0         0         0         0         0         0   \n2       0  ...         0         0         0         0         0         0   \n3       0  ...         0         0         0         0         0         0   \n4       0  ...         0         0         0         0         0         0   \n\n   pixel780  pixel781  pixel782  pixel783  \n0         0         0         0         0  \n1         0         0         0         0  \n2         0         0         0         0  \n3         0         0         0         0  \n4         0         0         0         0  \n\n[5 rows x 785 columns]\n"
     ]
    }
   ],
   "source": [
    "# Write to the log:\n",
    "print(\"Training set has {0[0]} rows and {0[1]} columns\".format(train.shape))\n",
    "print(\"Test set has {0[0]} rows and {0[1]} columns\".format(test.shape))\n",
    "# Any files you write to the current directory get shown as outputs\n",
    "\n",
    "\n",
    "print(train.head())"
   ]
  },
  {
   "cell_type": "code",
   "execution_count": 86,
   "metadata": {
    "trusted": true
   },
   "outputs": [
    {
     "name": "stdout",
     "output_type": "stream",
     "text": [
      "       pixel0  pixel1  pixel2  pixel3  pixel4  pixel5  pixel6  pixel7  pixel8  \\\n0           0       0       0       0       0       0       0       0       0   \n1           0       0       0       0       0       0       0       0       0   \n2           0       0       0       0       0       0       0       0       0   \n3           0       0       0       0       0       0       0       0       0   \n4           0       0       0       0       0       0       0       0       0   \n...       ...     ...     ...     ...     ...     ...     ...     ...     ...   \n41995       0       0       0       0       0       0       0       0       0   \n41996       0       0       0       0       0       0       0       0       0   \n41997       0       0       0       0       0       0       0       0       0   \n41998       0       0       0       0       0       0       0       0       0   \n41999       0       0       0       0       0       0       0       0       0   \n\n       pixel9  ...  pixel774  pixel775  pixel776  pixel777  pixel778  \\\n0           0  ...         0         0         0         0         0   \n1           0  ...         0         0         0         0         0   \n2           0  ...         0         0         0         0         0   \n3           0  ...         0         0         0         0         0   \n4           0  ...         0         0         0         0         0   \n...       ...  ...       ...       ...       ...       ...       ...   \n41995       0  ...         0         0         0         0         0   \n41996       0  ...         0         0         0         0         0   \n41997       0  ...         0         0         0         0         0   \n41998       0  ...         0         0         0         0         0   \n41999       0  ...         0         0         0         0         0   \n\n       pixel779  pixel780  pixel781  pixel782  pixel783  \n0             0         0         0         0         0  \n1             0         0         0         0         0  \n2             0         0         0         0         0  \n3             0         0         0         0         0  \n4             0         0         0         0         0  \n...         ...       ...       ...       ...       ...  \n41995         0         0         0         0         0  \n41996         0         0         0         0         0  \n41997         0         0         0         0         0  \n41998         0         0         0         0         0  \n41999         0         0         0         0         0  \n\n[42000 rows x 784 columns]\n0        1\n1        0\n2        1\n3        4\n4        0\n        ..\n41995    0\n41996    1\n41997    7\n41998    6\n41999    9\nName: label, Length: 42000, dtype: int64\n"
     ]
    }
   ],
   "source": [
    "# label training data\n",
    "y = train[\"label\"]\n",
    "x = train.drop(labels = [\"label\"], axis = 1) \n",
    "\n",
    "print(x)\n",
    "print(y)\n"
   ]
  },
  {
   "cell_type": "code",
   "execution_count": 94,
   "metadata": {
    "trusted": true
   },
   "outputs": [
    {
     "name": "stdout",
     "output_type": "stream",
     "text": [
      "[[[[0]\n   [0]\n   [0]\n   ...\n   [0]\n   [0]\n   [0]]\n\n  [[0]\n   [0]\n   [0]\n   ...\n   [0]\n   [0]\n   [0]]\n\n  [[0]\n   [0]\n   [0]\n   ...\n   [0]\n   [0]\n   [0]]\n\n  ...\n\n  [[0]\n   [0]\n   [0]\n   ...\n   [0]\n   [0]\n   [0]]\n\n  [[0]\n   [0]\n   [0]\n   ...\n   [0]\n   [0]\n   [0]]\n\n  [[0]\n   [0]\n   [0]\n   ...\n   [0]\n   [0]\n   [0]]]\n\n\n [[[0]\n   [0]\n   [0]\n   ...\n   [0]\n   [0]\n   [0]]\n\n  [[0]\n   [0]\n   [0]\n   ...\n   [0]\n   [0]\n   [0]]\n\n  [[0]\n   [0]\n   [0]\n   ...\n   [0]\n   [0]\n   [0]]\n\n  ...\n\n  [[0]\n   [0]\n   [0]\n   ...\n   [0]\n   [0]\n   [0]]\n\n  [[0]\n   [0]\n   [0]\n   ...\n   [0]\n   [0]\n   [0]]\n\n  [[0]\n   [0]\n   [0]\n   ...\n   [0]\n   [0]\n   [0]]]\n\n\n [[[0]\n   [0]\n   [0]\n   ...\n   [0]\n   [0]\n   [0]]\n\n  [[0]\n   [0]\n   [0]\n   ...\n   [0]\n   [0]\n   [0]]\n\n  [[0]\n   [0]\n   [0]\n   ...\n   [0]\n   [0]\n   [0]]\n\n  ...\n\n  [[0]\n   [0]\n   [0]\n   ...\n   [0]\n   [0]\n   [0]]\n\n  [[0]\n   [0]\n   [0]\n   ...\n   [0]\n   [0]\n   [0]]\n\n  [[0]\n   [0]\n   [0]\n   ...\n   [0]\n   [0]\n   [0]]]\n\n\n ...\n\n\n [[[0]\n   [0]\n   [0]\n   ...\n   [0]\n   [0]\n   [0]]\n\n  [[0]\n   [0]\n   [0]\n   ...\n   [0]\n   [0]\n   [0]]\n\n  [[0]\n   [0]\n   [0]\n   ...\n   [0]\n   [0]\n   [0]]\n\n  ...\n\n  [[0]\n   [0]\n   [0]\n   ...\n   [0]\n   [0]\n   [0]]\n\n  [[0]\n   [0]\n   [0]\n   ...\n   [0]\n   [0]\n   [0]]\n\n  [[0]\n   [0]\n   [0]\n   ...\n   [0]\n   [0]\n   [0]]]\n\n\n [[[0]\n   [0]\n   [0]\n   ...\n   [0]\n   [0]\n   [0]]\n\n  [[0]\n   [0]\n   [0]\n   ...\n   [0]\n   [0]\n   [0]]\n\n  [[0]\n   [0]\n   [0]\n   ...\n   [0]\n   [0]\n   [0]]\n\n  ...\n\n  [[0]\n   [0]\n   [0]\n   ...\n   [0]\n   [0]\n   [0]]\n\n  [[0]\n   [0]\n   [0]\n   ...\n   [0]\n   [0]\n   [0]]\n\n  [[0]\n   [0]\n   [0]\n   ...\n   [0]\n   [0]\n   [0]]]\n\n\n [[[0]\n   [0]\n   [0]\n   ...\n   [0]\n   [0]\n   [0]]\n\n  [[0]\n   [0]\n   [0]\n   ...\n   [0]\n   [0]\n   [0]]\n\n  [[0]\n   [0]\n   [0]\n   ...\n   [0]\n   [0]\n   [0]]\n\n  ...\n\n  [[0]\n   [0]\n   [0]\n   ...\n   [0]\n   [0]\n   [0]]\n\n  [[0]\n   [0]\n   [0]\n   ...\n   [0]\n   [0]\n   [0]]\n\n  [[0]\n   [0]\n   [0]\n   ...\n   [0]\n   [0]\n   [0]]]]\n[[[[0]\n   [0]\n   [0]\n   ...\n   [0]\n   [0]\n   [0]]\n\n  [[0]\n   [0]\n   [0]\n   ...\n   [0]\n   [0]\n   [0]]\n\n  [[0]\n   [0]\n   [0]\n   ...\n   [0]\n   [0]\n   [0]]\n\n  ...\n\n  [[0]\n   [0]\n   [0]\n   ...\n   [0]\n   [0]\n   [0]]\n\n  [[0]\n   [0]\n   [0]\n   ...\n   [0]\n   [0]\n   [0]]\n\n  [[0]\n   [0]\n   [0]\n   ...\n   [0]\n   [0]\n   [0]]]\n\n\n [[[0]\n   [0]\n   [0]\n   ...\n   [0]\n   [0]\n   [0]]\n\n  [[0]\n   [0]\n   [0]\n   ...\n   [0]\n   [0]\n   [0]]\n\n  [[0]\n   [0]\n   [0]\n   ...\n   [0]\n   [0]\n   [0]]\n\n  ...\n\n  [[0]\n   [0]\n   [0]\n   ...\n   [0]\n   [0]\n   [0]]\n\n  [[0]\n   [0]\n   [0]\n   ...\n   [0]\n   [0]\n   [0]]\n\n  [[0]\n   [0]\n   [0]\n   ...\n   [0]\n   [0]\n   [0]]]\n\n\n [[[0]\n   [0]\n   [0]\n   ...\n   [0]\n   [0]\n   [0]]\n\n  [[0]\n   [0]\n   [0]\n   ...\n   [0]\n   [0]\n   [0]]\n\n  [[0]\n   [0]\n   [0]\n   ...\n   [0]\n   [0]\n   [0]]\n\n  ...\n\n  [[0]\n   [0]\n   [0]\n   ...\n   [0]\n   [0]\n   [0]]\n\n  [[0]\n   [0]\n   [0]\n   ...\n   [0]\n   [0]\n   [0]]\n\n  [[0]\n   [0]\n   [0]\n   ...\n   [0]\n   [0]\n   [0]]]\n\n\n ...\n\n\n [[[0]\n   [0]\n   [0]\n   ...\n   [0]\n   [0]\n   [0]]\n\n  [[0]\n   [0]\n   [0]\n   ...\n   [0]\n   [0]\n   [0]]\n\n  [[0]\n   [0]\n   [0]\n   ...\n   [0]\n   [0]\n   [0]]\n\n  ...\n\n  [[0]\n   [0]\n   [0]\n   ...\n   [0]\n   [0]\n   [0]]\n\n  [[0]\n   [0]\n   [0]\n   ...\n   [0]\n   [0]\n   [0]]\n\n  [[0]\n   [0]\n   [0]\n   ...\n   [0]\n   [0]\n   [0]]]\n\n\n [[[0]\n   [0]\n   [0]\n   ...\n   [0]\n   [0]\n   [0]]\n\n  [[0]\n   [0]\n   [0]\n   ...\n   [0]\n   [0]\n   [0]]\n\n  [[0]\n   [0]\n   [0]\n   ...\n   [0]\n   [0]\n   [0]]\n\n  ...\n\n  [[0]\n   [0]\n   [0]\n   ...\n   [0]\n   [0]\n   [0]]\n\n  [[0]\n   [0]\n   [0]\n   ...\n   [0]\n   [0]\n   [0]]\n\n  [[0]\n   [0]\n   [0]\n   ...\n   [0]\n   [0]\n   [0]]]\n\n\n [[[0]\n   [0]\n   [0]\n   ...\n   [0]\n   [0]\n   [0]]\n\n  [[0]\n   [0]\n   [0]\n   ...\n   [0]\n   [0]\n   [0]]\n\n  [[0]\n   [0]\n   [0]\n   ...\n   [0]\n   [0]\n   [0]]\n\n  ...\n\n  [[0]\n   [0]\n   [0]\n   ...\n   [0]\n   [0]\n   [0]]\n\n  [[0]\n   [0]\n   [0]\n   ...\n   [0]\n   [0]\n   [0]]\n\n  [[0]\n   [0]\n   [0]\n   ...\n   [0]\n   [0]\n   [0]]]]\n"
     ]
    }
   ],
   "source": [
    "# Reshape data\n",
    "CLASSES = 10\n",
    "CHANNELS = 1\n",
    "IMAGE_SIZE = 28\n",
    "IMAGE_WIDTH, IMAGE_HEIGHT = IMAGE_SIZE, IMAGE_SIZE\n",
    "\n",
    "\n",
    "x = x.reshape(-1, IMAGE_WIDTH, IMAGE_HEIGHT, CHANNELS)\n",
    "test = test.reshape(-1, IMAGE_WIDTH, IMAGE_HEIGHT, CHANNELS)\n",
    "\n",
    "print(x)\n",
    "print(test)"
   ]
  },
  {
   "cell_type": "code",
   "execution_count": 95,
   "metadata": {
    "trusted": true
   },
   "outputs": [
    {
     "name": "stdout",
     "output_type": "stream",
     "text": [
      "[[0. 1. 0. ... 0. 0. 0.]\n [1. 0. 0. ... 0. 0. 0.]\n [0. 1. 0. ... 0. 0. 0.]\n ...\n [0. 0. 0. ... 1. 0. 0.]\n [0. 0. 0. ... 0. 0. 0.]\n [0. 0. 0. ... 0. 0. 1.]]\n"
     ]
    }
   ],
   "source": [
    "# One-Hot encoding\n",
    "from keras.utils.np_utils import to_categorical\n",
    "y = to_categorical(y, num_classes=CLASSES)\n",
    "\n",
    "print(y)"
   ]
  },
  {
   "cell_type": "code",
   "execution_count": 97,
   "metadata": {
    "trusted": true
   },
   "outputs": [],
   "source": [
    "# Prepare training/validation sets\n",
    "#model on trainging set\n",
    "x_training, x_validation, y_training, y_validation = train_test_split(x,\n",
    "                                                                      y,\n",
    "                                                                      test_size=VALIDATION_RATIO,\n",
    "                                                                      shuffle = True)\n"
   ]
  },
  {
   "cell_type": "code",
   "execution_count": null,
   "metadata": {
    "trusted": true
   },
   "outputs": [],
   "source": [
    "#CNN MODEL"
   ]
  },
  {
   "cell_type": "code",
   "execution_count": 99,
   "metadata": {
    "trusted": true
   },
   "outputs": [],
   "source": [
    "model = Sequential()\n",
    "\n",
    "model.add(Conv2D(filters=32,\n",
    "                 kernel_size=(5,5),\n",
    "                 padding='Same', \n",
    "                 activation='relu',\n",
    "                 input_shape=(IMAGE_WIDTH, IMAGE_HEIGHT, CHANNELS)))\n",
    "model.add(Conv2D(filters=32,\n",
    "                 kernel_size=(5,5),\n",
    "                 padding='Same', \n",
    "                 activation='relu'))\n",
    "model.add(MaxPool2D(pool_size=(2,2)))\n",
    "model.add(Dropout(0.5))\n",
    "\n",
    "model.add(Conv2D(filters=64, kernel_size=(3,3),padding='Same', \n",
    "                 activation='relu'))\n",
    "model.add(Conv2D(filters=64, kernel_size=(3,3),padding='Same', \n",
    "                 activation='relu'))\n",
    "model.add(MaxPool2D(pool_size=(2,2), strides=(2,2)))\n",
    "model.add(Dropout(0.5))\n",
    "\n",
    "model.add(Flatten())\n",
    "model.add(Dense(8192, activation='relu'))\n",
    "model.add(Dropout(0.5))\n",
    "\n",
    "model.add(Dense(2048, activation='relu'))\n",
    "model.add(Dropout(0.5))\n",
    "\n",
    "model.add(Dense(CLASSES, activation=\"softmax\"))\n",
    "\n"
   ]
  },
  {
   "cell_type": "code",
   "execution_count": 125,
   "metadata": {
    "trusted": true
   },
   "outputs": [],
   "source": [
    "# compile model\n",
    "model.compile(optimizer=RMSprop(lr=0.0001,\n",
    "                                rho=0.9,\n",
    "                                epsilon=1e-08,\n",
    "                                decay=0.00001),\n",
    "              loss=\"categorical_crossentropy\",\n",
    "              metrics=[\"accuracy\"])\n",
    "\n"
   ]
  },
  {
   "cell_type": "code",
   "execution_count": 101,
   "metadata": {
    "trusted": true
   },
   "outputs": [],
   "source": [
    "# Data augmentation\n",
    "data_generator = ImageDataGenerator(rescale=1./255,\n",
    "                                    rotation_range=10,\n",
    "                                    zoom_range=0.15, \n",
    "                                    width_shift_range=0.1,\n",
    "                                    height_shift_range=0.1)\n",
    "data_generator.fit(x_training)"
   ]
  },
  {
   "cell_type": "code",
   "execution_count": null,
   "metadata": {
    "trusted": true
   },
   "outputs": [],
   "source": [
    "# start training"
   ]
  },
  {
   "cell_type": "code",
   "execution_count": 67,
   "metadata": {
    "trusted": true
   },
   "outputs": [
    {
     "name": "stdout",
     "output_type": "stream",
     "text": [
      "Collecting livelossplot\n  Downloading livelossplot-0.5.2-py3-none-any.whl (29 kB)\nRequirement already satisfied: bokeh; python_version >= \"3.6\" in /opt/conda/lib/python3.7/site-packages (from livelossplot) (2.1.1)\nRequirement already satisfied: matplotlib; python_version >= \"3.6\" in /opt/conda/lib/python3.7/site-packages (from livelossplot) (3.2.1)\nRequirement already satisfied: ipython in /opt/conda/lib/python3.7/site-packages (from livelossplot) (7.13.0)\nRequirement already satisfied: typing-extensions>=3.7.4 in /opt/conda/lib/python3.7/site-packages (from bokeh; python_version >= \"3.6\"->livelossplot) (3.7.4.1)\nRequirement already satisfied: pillow>=4.0 in /opt/conda/lib/python3.7/site-packages (from bokeh; python_version >= \"3.6\"->livelossplot) (7.2.0)\nCollecting tornado>=5.1\n  Downloading tornado-6.0.4.tar.gz (496 kB)\n\u001b[K     |████████████████████████████████| 496 kB 6.0 MB/s eta 0:00:01\n\u001b[?25hRequirement already satisfied: numpy>=1.11.3 in /opt/conda/lib/python3.7/site-packages (from bokeh; python_version >= \"3.6\"->livelossplot) (1.18.5)\nRequirement already satisfied: PyYAML>=3.10 in /opt/conda/lib/python3.7/site-packages (from bokeh; python_version >= \"3.6\"->livelossplot) (5.3.1)\nRequirement already satisfied: packaging>=16.8 in /opt/conda/lib/python3.7/site-packages (from bokeh; python_version >= \"3.6\"->livelossplot) (20.1)\nRequirement already satisfied: Jinja2>=2.7 in /opt/conda/lib/python3.7/site-packages (from bokeh; python_version >= \"3.6\"->livelossplot) (2.11.2)\nRequirement already satisfied: python-dateutil>=2.1 in /opt/conda/lib/python3.7/site-packages (from bokeh; python_version >= \"3.6\"->livelossplot) (2.8.1)\nRequirement already satisfied: cycler>=0.10 in /opt/conda/lib/python3.7/site-packages (from matplotlib; python_version >= \"3.6\"->livelossplot) (0.10.0)\nRequirement already satisfied: kiwisolver>=1.0.1 in /opt/conda/lib/python3.7/site-packages (from matplotlib; python_version >= \"3.6\"->livelossplot) (1.2.0)\nRequirement already satisfied: pyparsing!=2.0.4,!=2.1.2,!=2.1.6,>=2.0.1 in /opt/conda/lib/python3.7/site-packages (from matplotlib; python_version >= \"3.6\"->livelossplot) (2.4.7)\nRequirement already satisfied: pygments in /opt/conda/lib/python3.7/site-packages (from ipython->livelossplot) (2.6.1)\nRequirement already satisfied: jedi>=0.10 in /opt/conda/lib/python3.7/site-packages (from ipython->livelossplot) (0.15.2)\nRequirement already satisfied: pexpect; sys_platform != \"win32\" in /opt/conda/lib/python3.7/site-packages (from ipython->livelossplot) (4.8.0)\nRequirement already satisfied: decorator in /opt/conda/lib/python3.7/site-packages (from ipython->livelossplot) (4.4.2)\nRequirement already satisfied: traitlets>=4.2 in /opt/conda/lib/python3.7/site-packages (from ipython->livelossplot) (4.3.3)\nRequirement already satisfied: prompt-toolkit!=3.0.0,!=3.0.1,<3.1.0,>=2.0.0 in /opt/conda/lib/python3.7/site-packages (from ipython->livelossplot) (3.0.5)\nRequirement already satisfied: setuptools>=18.5 in /opt/conda/lib/python3.7/site-packages (from ipython->livelossplot) (46.1.3.post20200325)\nRequirement already satisfied: backcall in /opt/conda/lib/python3.7/site-packages (from ipython->livelossplot) (0.1.0)\nRequirement already satisfied: pickleshare in /opt/conda/lib/python3.7/site-packages (from ipython->livelossplot) (0.7.5)\nRequirement already satisfied: six in /opt/conda/lib/python3.7/site-packages (from packaging>=16.8->bokeh; python_version >= \"3.6\"->livelossplot) (1.14.0)\nRequirement already satisfied: MarkupSafe>=0.23 in /opt/conda/lib/python3.7/site-packages (from Jinja2>=2.7->bokeh; python_version >= \"3.6\"->livelossplot) (1.1.1)\nRequirement already satisfied: parso>=0.5.2 in /opt/conda/lib/python3.7/site-packages (from jedi>=0.10->ipython->livelossplot) (0.5.2)\nRequirement already satisfied: ptyprocess>=0.5 in /opt/conda/lib/python3.7/site-packages (from pexpect; sys_platform != \"win32\"->ipython->livelossplot) (0.6.0)\nRequirement already satisfied: ipython-genutils in /opt/conda/lib/python3.7/site-packages (from traitlets>=4.2->ipython->livelossplot) (0.2.0)\nRequirement already satisfied: wcwidth in /opt/conda/lib/python3.7/site-packages (from prompt-toolkit!=3.0.0,!=3.0.1,<3.1.0,>=2.0.0->ipython->livelossplot) (0.1.9)\nBuilding wheels for collected packages: tornado\n  Building wheel for tornado (setup.py) ... \u001b[?25ldone\n\u001b[?25h  Created wheel for tornado: filename=tornado-6.0.4-cp37-cp37m-linux_x86_64.whl size=428636 sha256=c9ba9ab34c1bc2988d9f11e3915896c9bc005d744e45f6840b4de4cee2d3ca79\n  Stored in directory: /root/.cache/pip/wheels/7d/14/fa/d88fb5da77d813ea0ffca38a2ab2a052874e9e1142bad0b348\nSuccessfully built tornado\n\u001b[31mERROR: jupyterlab-git 0.10.0 has requirement nbdime<2.0.0,>=1.1.0, but you'll have nbdime 2.0.0 which is incompatible.\u001b[0m\nInstalling collected packages: livelossplot, tornado\n  Attempting uninstall: tornado\n    Found existing installation: tornado 5.0.2\n    Uninstalling tornado-5.0.2:\n      Successfully uninstalled tornado-5.0.2\nSuccessfully installed livelossplot-0.5.2 tornado-6.0.4\nNote: you may need to restart the kernel to use updated packages.\n"
     ]
    }
   ],
   "source": [
    "pip install livelossplot"
   ]
  },
  {
   "cell_type": "code",
   "execution_count": 102,
   "metadata": {
    "trusted": true
   },
   "outputs": [],
   "source": [
    "#Downloading data if necessary\n",
    "GOOGLE_COLAB = False\n",
    "if GOOGLE_COLAB:\n",
    "    files.download(MODEL_SUMMARY_FILE)\n",
    "    files.download(MODEL_FILE)\n",
    "    files.download(TRAINING_LOGS_FILE)\n",
    "    files.download(VALIDATION_PLOT_FILE)\n",
    "    files.download(TRAINING_PLOT_FILE)\n",
    "    files.download(KAGGLE_SUBMISSION_FILE)"
   ]
  },
  {
   "cell_type": "code",
   "execution_count": null,
   "metadata": {
    "trusted": true
   },
   "outputs": [],
   "source": [
    ""
   ]
  },
  {
   "cell_type": "code",
   "execution_count": null,
   "metadata": {
    "trusted": true
   },
   "outputs": [],
   "source": [
    "#trainig"
   ]
  },
  {
   "cell_type": "code",
   "execution_count": 103,
   "metadata": {
    "trusted": true
   },
   "outputs": [
    {
     "data": {
      "image/png": "[encoded data removed]",
      "text/plain": [
       "<Figure size 864x576 with 2 Axes>"
      ]
     },
     "metadata": {
      "needs_background": "light"
     },
     "output_type": "display_data"
    },
    {
     "name": "stdout",
     "output_type": "stream",
     "text": [
      "accuracy\n\ttraining         \t (min:    0.481, max:    0.991, cur:    0.991)\n\tvalidation       \t (min:    0.880, max:    0.994, cur:    0.994)\nLoss\n\ttraining         \t (min:    0.028, max:    1.525, cur:    0.028)\n\tvalidation       \t (min:    2.077, max:   23.849, cur:    3.162)\n\b\b\b\b\b\b\b\b\b\b\b\b\b\b\b\b\b\b\b\b\b\b\b\b\b\b\b\b\b\b\b\b\b\b\b\b\b\b\b\b\b\b\b\b\b\b\b\b\b\b\b\b\b\b\b\b\b\b\b\b\b\b\b\b\b\b\b\b\b\b\b\b\b\b\b\b\b\b\b\b\b\b\r73/73 [==============================] - 11s 157ms/step - loss: 0.0284 - accuracy: 0.9913 - val_loss: 3.1620 - val_accuracy: 0.9936\n"
     ]
    }
   ],
   "source": [
    "\n",
    "from livelossplot import PlotLossesKeras\n",
    "\n",
    "TRAINING_LOGS_FILE = \"training_logs.csv\"\n",
    "MODEL_FILE = \"model.h5\"\n",
    "\n",
    "history = model.fit_generator(data_generator.flow(x_training,\n",
    "                                                  y_training,\n",
    "                                                  batch_size=BATCH_SIZE),\n",
    "                              epochs=EPOCHS,\n",
    "                              validation_data=(x_validation, y_validation),\n",
    "                              verbose=VERBOSITY,\n",
    "                              steps_per_epoch=x_training.shape[0] // BATCH_SIZE,\n",
    "                              callbacks=[PlotLossesKeras(),\n",
    "                                         CSVLogger(TRAINING_LOGS_FILE,\n",
    "                                                   append=False,\n",
    "                                                   separator=\";\")])\n",
    "model.save_weights(MODEL_FILE)"
   ]
  },
  {
   "cell_type": "code",
   "execution_count": null,
   "metadata": {
    "trusted": true
   },
   "outputs": [],
   "source": [
    "#Testing"
   ]
  },
  {
   "cell_type": "code",
   "execution_count": 104,
   "metadata": {
    "trusted": true
   },
   "outputs": [
    {
     "name": "stdout",
     "output_type": "stream",
     "text": [
      "875/875 [==============================] - 2s 2ms/step\n"
     ]
    }
   ],
   "source": [
    "# Testing\n",
    "KAGGLE_SUBMISSION_FILE = \"kaggle_submission.csv\"\n",
    "\n",
    "predictions = model.predict_classes(test, verbose=1)\n",
    "pd.DataFrame({\"ImageId\":list(range(1,len(predictions)+1)),\n",
    "              \"Label\":predictions}).to_csv(KAGGLE_SUBMISSION_FILE,\n",
    "                                           index=False,\n",
    "                                           header=True)\n",
    "\n"
   ]
  },
  {
   "cell_type": "code",
   "execution_count": 115,
   "metadata": {
    "trusted": true
   },
   "outputs": [
    {
     "data": {
      "text/plain": [
       "array([2, 0, 9, ..., 3, 9, 2])"
      ]
     },
     "execution_count": 115,
     "metadata": {},
     "output_type": "execute_result"
    }
   ],
   "source": [
    "predictions"
   ]
  },
  {
   "cell_type": "code",
   "execution_count": 130,
   "metadata": {
    "trusted": true
   },
   "outputs": [
    {
     "data": {
      "image/png": "[encoded data removed]",
      "text/plain": [
       "<Figure size 432x288 with 1 Axes>"
      ]
     },
     "metadata": {
      "needs_background": "light"
     },
     "output_type": "display_data"
    }
   ],
   "source": [
    "# Drawing plots\n",
    "TRAINING_PLOT_FILE = \"training.png\"\n",
    "VALIDATION_PLOT_FILE = \"validation.png\"\n",
    "\n",
    "epochs = [i for i in range(1, len(history.history['loss'])+1)]\n",
    "\n",
    "plt.plot(epochs, history.history['loss'], color='blue', label=\"training_loss\")\n",
    "plt.plot(epochs, history.history['val_loss'], color='red', label=\"validation_loss\")\n",
    "plt.legend(loc='best')\n",
    "plt.title('training')\n",
    "plt.xlabel('epoch')\n",
    "plt.savefig(TRAINING_PLOT_FILE, bbox_inches='tight')\n",
    "# plt.close()\n",
    "\n",
    "plt.show()"
   ]
  },
  {
   "cell_type": "code",
   "execution_count": null,
   "metadata": {
    "trusted": true
   },
   "outputs": [],
   "source": [
    "plt.plot(epochs, history.history['accuracy'], color='blue', label=\"training_accuracy\")\n",
    "plt.plot(epochs,history.history['val_accuracy'], color='red',label=\"validation_accuracy\")\n",
    "plt.legend(loc='best')\n",
    "plt.title('validation')\n",
    "plt.xlabel('epoch')\n",
    "plt.savefig(VALIDATION_PLOT_FILE, bbox_inches='tight')\n",
    "# plt.close()\n",
    "\n",
    "plt.show()"
   ]
  }
 ],
 "metadata": {
  "kernelspec": {
   "name": "python3",
   "display_name": "Python 3",
   "language": "python"
  },
  "language_info": {
   "name": "python",
   "version": "3.7.6",
   "mimetype": "text/x-python",
   "codemirror_mode": {
    "name": "ipython",
    "version": 3
   },
   "pygments_lexer": "ipython3",
   "nbconvert_exporter": "python",
   "file_extension": ".py"
  }
 },
 "nbformat": 4,
 "nbformat_minor": 4
}
